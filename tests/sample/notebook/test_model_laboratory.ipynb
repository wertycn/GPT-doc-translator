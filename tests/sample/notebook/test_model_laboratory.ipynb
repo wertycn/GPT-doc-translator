{
 "cells": [
  {
   "cell_type": "markdown",
   "id": "2ae34a31",
   "metadata": {},
   "source": [
    "# Model Comparison\n",
    "\n",
    "Constructing your language model application will likely involved choosing between many different options of prompts, models, and even chains to use. When doing so, you will want to compare these different options on different inputs in an easy, flexible, and intuitive way. \n",
    "\n",
    "LangChain provides the concept of a ModelLaboratory to test out and try different models."
   ]
  },
  {
   "cell_type": "code",
   "execution_count": null,
   "id": "d645c060",
   "metadata": {},
   "outputs": [],
   "source": [
    "from langchain import LLMChain, OpenAI, Cohere, HuggingFaceHub, PromptTemplate\n",
    "from langchain.model_laboratory import ModelLaboratory"
   ]
  },
  {
   "cell_type": "code",
   "execution_count": null,
   "id": "8853e00f",
   "metadata": {},
   "outputs": [],
   "source": [
    "llms = [\n",
    "    OpenAI(temperature=0), \n",
    "    Cohere(model=\"command-xlarge-20221108\", max_tokens=20, temperature=0), \n",
    "    HuggingFaceHub(repo_id=\"google/flan-t5-xl\", model_kwargs={\"temperature\":1})\n",
    "]"
   ]
  },
  {
   "cell_type": "code",
   "execution_count": null,
   "id": "4215c689",
   "metadata": {},
   "outputs": [],
   "source": [
    "model_lab = ModelLaboratory.from_llms(llms)"
   ]
  },
  {
   "cell_type": "code",
   "execution_count": null,
   "id": "63a66fc1",
   "metadata": {},
   "outputs": [],
   "source": [
    "model_lab.compare(\"What color is a flamingo?\")"
   ]
  },
  {
   "cell_type": "code",
   "execution_count": null,
   "id": "c7adce57",
   "metadata": {},
   "outputs": [],
   "source": [
    "prompt = PromptTemplate(template=\"What is the capital of {state}?\", input_variables=[\"state\"])\n",
    "model_lab_with_prompt = ModelLaboratory.from_llms(llms, prompt=prompt)"
   ]
  },
  {
   "cell_type": "code",
   "execution_count": null,
   "id": "847d9cfb",
   "metadata": {},
   "outputs": [],
   "source": [
    "model_lab_with_prompt.compare(\"New York\")"
   ]
  },
  {
   "cell_type": "code",
   "execution_count": null,
   "id": "c67a766a",
   "metadata": {},
   "outputs": [],
   "source": [
    "from langchain import SelfAskWithSearchChain, SerpAPIWrapper\n",
    "\n",
    "open_ai_llm = OpenAI(temperature=0)\n",
    "search = SerpAPIWrapper()\n",
    "self_ask_with_search_openai = SelfAskWithSearchChain(llm=open_ai_llm, search_chain=search, verbose=True)\n",
    "\n",
    "cohere_llm = Cohere(temperature=0, model=\"command-xlarge-20221108\")\n",
    "search = SerpAPIWrapper()\n",
    "self_ask_with_search_cohere = SelfAskWithSearchChain(llm=cohere_llm, search_chain=search, verbose=True)"
   ]
  },
  {
   "cell_type": "code",
   "execution_count": null,
   "id": "4b23c3dc",
   "metadata": {},
   "outputs": [],
   "source": [
    "chains = [self_ask_with_search_openai, self_ask_with_search_cohere]\n",
    "names = [str(open_ai_llm), str(cohere_llm)]"
   ]
  },
  {
   "cell_type": "code",
   "execution_count": null,
   "id": "1d76077d",
   "metadata": {},
   "outputs": [],
   "source": [
    "model_lab = ModelLaboratory(chains, names=names)"
   ]
  },
  {
   "cell_type": "code",
   "execution_count": null,
   "id": "b943e0fc",
   "metadata": {},
   "outputs": [],
   "source": [
    "model_lab.compare(\"What is the hometown of the reigning men's U.S. Open champion?\")"
   ]
  },
  {
   "cell_type": "code",
   "execution_count": null,
   "id": "b8ee0637",
   "metadata": {},
   "outputs": [],
   "source": []
  }
 ],
 "metadata": {},
 "nbformat": 4,
 "nbformat_minor": 5
}
